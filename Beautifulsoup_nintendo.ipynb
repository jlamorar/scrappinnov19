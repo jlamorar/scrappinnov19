{
  "nbformat": 4,
  "nbformat_minor": 0,
  "metadata": {
    "colab": {
      "provenance": [],
      "include_colab_link": true
    },
    "kernelspec": {
      "name": "python3",
      "display_name": "Python 3"
    },
    "language_info": {
      "name": "python"
    }
  },
  "cells": [
    {
      "cell_type": "markdown",
      "metadata": {
        "id": "view-in-github",
        "colab_type": "text"
      },
      "source": [
        "<a href=\"https://colab.research.google.com/github/jlamorar/scrappinnov19/blob/main/Beautifulsoup_nintendo.ipynb\" target=\"_parent\"><img src=\"https://colab.research.google.com/assets/colab-badge.svg\" alt=\"Open In Colab\"/></a>"
      ]
    },
    {
      "cell_type": "markdown",
      "source": [
        "##Scrapping de mercado libre sobre **NINTENDO SWITCH OLED**"
      ],
      "metadata": {
        "id": "yYhwiFZmCgod"
      }
    },
    {
      "cell_type": "markdown",
      "source": [
        "#Este bloque de código automatiza la búsqueda de nombres y precios de productos Nintendo Switch OLED en MercadoLibre y guarda los resultados en la variable resultado para su análisis."
      ],
      "metadata": {
        "id": "9Le_IB96CjmC"
      }
    },
    {
      "cell_type": "code",
      "source": [
        "# Instalación de las librerías necesarias para BeautifulSoup\n",
        "!pip install requests beautifulsoup4\n"
      ],
      "metadata": {
        "colab": {
          "base_uri": "https://localhost:8080/"
        },
        "id": "EdvBxJSp9yNn",
        "outputId": "81c8ac9a-51bf-4d7a-dea4-7b1614448145"
      },
      "execution_count": null,
      "outputs": [
        {
          "output_type": "stream",
          "name": "stdout",
          "text": [
            "Requirement already satisfied: requests in /usr/local/lib/python3.10/dist-packages (2.32.3)\n",
            "Requirement already satisfied: beautifulsoup4 in /usr/local/lib/python3.10/dist-packages (4.12.3)\n",
            "Requirement already satisfied: charset-normalizer<4,>=2 in /usr/local/lib/python3.10/dist-packages (from requests) (3.4.0)\n",
            "Requirement already satisfied: idna<4,>=2.5 in /usr/local/lib/python3.10/dist-packages (from requests) (3.10)\n",
            "Requirement already satisfied: urllib3<3,>=1.21.1 in /usr/local/lib/python3.10/dist-packages (from requests) (2.2.3)\n",
            "Requirement already satisfied: certifi>=2017.4.17 in /usr/local/lib/python3.10/dist-packages (from requests) (2024.8.30)\n",
            "Requirement already satisfied: soupsieve>1.2 in /usr/local/lib/python3.10/dist-packages (from beautifulsoup4) (2.6)\n"
          ]
        }
      ]
    },
    {
      "cell_type": "code",
      "source": [
        "import requests  # Descargar la página web\n",
        "from bs4 import BeautifulSoup  # Analizar el HTML\n",
        "\n",
        "# Definimos la URL corregida de la página de Nintendo Switch OLED en MercadoLibre\n",
        "url = \"https://listado.mercadolibre.com.co/nintendo-switch-oled\"\n",
        "\n",
        "# Inicializamos una lista para almacenar los resultados\n",
        "resultado = []\n",
        "\n",
        "try:\n",
        "    # Realizamos la solicitud a la página y verificamos errores\n",
        "    response = requests.get(url, timeout=10)\n",
        "    response.raise_for_status()\n",
        "\n",
        "    # Guardamos el contenido HTML para inspección\n",
        "    with open(\"pagina_nintendo.html\", \"w\", encoding='utf-8') as file:\n",
        "        file.write(response.text)\n",
        "\n",
        "    print(\"HTML descargado correctamente: pagina_nintendo.html\")\n",
        "\n",
        "    # Creamos el objeto BeautifulSoup para analizar el contenido HTML\n",
        "    soup = BeautifulSoup(response.content, 'html.parser')\n",
        "\n",
        "    # Buscamos todos los productos dentro de la estructura <li> con clase específica\n",
        "    products = soup.find_all('li', class_='ui-search-layout__item')\n",
        "\n",
        "    # Iteramos sobre cada producto encontrado\n",
        "    for product in products:\n",
        "        try:\n",
        "            # Extraemos el nombre del producto\n",
        "            name_tag = product.find('h2', class_='ui-search-item__title')\n",
        "            name = name_tag.text.strip() if name_tag else 'Nombre no disponible'\n",
        "\n",
        "            # Extraemos el precio\n",
        "            price_tag = product.find('span', class_='price-tag-fraction')\n",
        "            price = price_tag.text.strip() if price_tag else 'Precio no disponible'\n",
        "\n",
        "            # Extraemos el descuento si está disponible\n",
        "            discount_tag = product.find('span', class_='ui-search-price__discount')\n",
        "            discount = discount_tag.text.strip() if discount_tag else 'Sin descuento'\n",
        "\n",
        "            # Extraemos la capacidad en GB (si está disponible en la descripción)\n",
        "            capacity_tag = product.find('div', class_='ui-search-item__group__element')\n",
        "            capacity = capacity_tag.text.strip() if capacity_tag else 'Capacidad no especificada'\n",
        "\n",
        "            # Verificamos si incluye juegos en la descripción\n",
        "            includes_games = 'Incluye juegos' if 'juego' in name.lower() else 'No incluye juegos'\n",
        "\n",
        "            # Extraemos la información de la garantía (si está disponible)\n",
        "            warranty_tag = product.find('div', class_='ui-search-item__warranty')\n",
        "            warranty = warranty_tag.text.strip() if warranty_tag else 'Sin garantía especificada'\n",
        "\n",
        "            # Verificamos si el producto es nuevo o usado\n",
        "            condition_tag = product.find('span', class_='ui-search-item__condition')\n",
        "            condition = condition_tag.text.strip() if condition_tag else 'Estado no especificado'\n",
        "\n",
        "            # Guardamos los datos en la lista 'resultado'\n",
        "            resultado.append({\n",
        "                'nombre': name,\n",
        "                'precio': price,\n",
        "                'descuento': discount,\n",
        "                'capacidad': capacity,\n",
        "                'incluye_juegos': includes_games,\n",
        "                'garantia': warranty,\n",
        "                'estado': condition\n",
        "            })\n",
        "\n",
        "        except Exception as e:\n",
        "            print(f\"Error al procesar un producto: {e}\")\n",
        "\n",
        "except requests.exceptions.RequestException as e:\n",
        "    print(f\"Error al realizar la solicitud: {e}\")\n",
        "\n",
        "# Mostramos los resultados obtenidos\n",
        "print(\"Resultados:\")\n",
        "for item in resultado:\n",
        "    print(item)\n"
      ],
      "metadata": {
        "colab": {
          "base_uri": "https://localhost:8080/"
        },
        "id": "hiaomv2MFn7s",
        "outputId": "ad430811-7f36-460b-e100-31c75d49db13"
      },
      "execution_count": null,
      "outputs": [
        {
          "output_type": "stream",
          "name": "stdout",
          "text": [
            "HTML descargado correctamente: pagina_nintendo.html\n",
            "Resultados:\n",
            "{'nombre': 'Nombre no disponible', 'precio': 'Precio no disponible', 'descuento': 'Sin descuento', 'capacidad': 'Capacidad no especificada', 'incluye_juegos': 'No incluye juegos', 'garantia': 'Sin garantía especificada', 'estado': 'Estado no especificado'}\n",
            "{'nombre': 'Nombre no disponible', 'precio': 'Precio no disponible', 'descuento': 'Sin descuento', 'capacidad': 'Capacidad no especificada', 'incluye_juegos': 'No incluye juegos', 'garantia': 'Sin garantía especificada', 'estado': 'Estado no especificado'}\n",
            "{'nombre': 'Nombre no disponible', 'precio': 'Precio no disponible', 'descuento': 'Sin descuento', 'capacidad': 'Capacidad no especificada', 'incluye_juegos': 'No incluye juegos', 'garantia': 'Sin garantía especificada', 'estado': 'Estado no especificado'}\n",
            "{'nombre': 'Nombre no disponible', 'precio': 'Precio no disponible', 'descuento': 'Sin descuento', 'capacidad': 'Capacidad no especificada', 'incluye_juegos': 'No incluye juegos', 'garantia': 'Sin garantía especificada', 'estado': 'Estado no especificado'}\n",
            "{'nombre': 'Nombre no disponible', 'precio': 'Precio no disponible', 'descuento': 'Sin descuento', 'capacidad': 'Capacidad no especificada', 'incluye_juegos': 'No incluye juegos', 'garantia': 'Sin garantía especificada', 'estado': 'Estado no especificado'}\n",
            "{'nombre': 'Nombre no disponible', 'precio': 'Precio no disponible', 'descuento': 'Sin descuento', 'capacidad': 'Capacidad no especificada', 'incluye_juegos': 'No incluye juegos', 'garantia': 'Sin garantía especificada', 'estado': 'Estado no especificado'}\n",
            "{'nombre': 'Nombre no disponible', 'precio': 'Precio no disponible', 'descuento': 'Sin descuento', 'capacidad': 'Capacidad no especificada', 'incluye_juegos': 'No incluye juegos', 'garantia': 'Sin garantía especificada', 'estado': 'Estado no especificado'}\n",
            "{'nombre': 'Nombre no disponible', 'precio': 'Precio no disponible', 'descuento': 'Sin descuento', 'capacidad': 'Capacidad no especificada', 'incluye_juegos': 'No incluye juegos', 'garantia': 'Sin garantía especificada', 'estado': 'Estado no especificado'}\n",
            "{'nombre': 'Nombre no disponible', 'precio': 'Precio no disponible', 'descuento': 'Sin descuento', 'capacidad': 'Capacidad no especificada', 'incluye_juegos': 'No incluye juegos', 'garantia': 'Sin garantía especificada', 'estado': 'Estado no especificado'}\n",
            "{'nombre': 'Nombre no disponible', 'precio': 'Precio no disponible', 'descuento': 'Sin descuento', 'capacidad': 'Capacidad no especificada', 'incluye_juegos': 'No incluye juegos', 'garantia': 'Sin garantía especificada', 'estado': 'Estado no especificado'}\n",
            "{'nombre': 'Nombre no disponible', 'precio': 'Precio no disponible', 'descuento': 'Sin descuento', 'capacidad': 'Capacidad no especificada', 'incluye_juegos': 'No incluye juegos', 'garantia': 'Sin garantía especificada', 'estado': 'Estado no especificado'}\n",
            "{'nombre': 'Nombre no disponible', 'precio': 'Precio no disponible', 'descuento': 'Sin descuento', 'capacidad': 'Capacidad no especificada', 'incluye_juegos': 'No incluye juegos', 'garantia': 'Sin garantía especificada', 'estado': 'Estado no especificado'}\n",
            "{'nombre': 'Nombre no disponible', 'precio': 'Precio no disponible', 'descuento': 'Sin descuento', 'capacidad': 'Capacidad no especificada', 'incluye_juegos': 'No incluye juegos', 'garantia': 'Sin garantía especificada', 'estado': 'Estado no especificado'}\n",
            "{'nombre': 'Nombre no disponible', 'precio': 'Precio no disponible', 'descuento': 'Sin descuento', 'capacidad': 'Capacidad no especificada', 'incluye_juegos': 'No incluye juegos', 'garantia': 'Sin garantía especificada', 'estado': 'Estado no especificado'}\n",
            "{'nombre': 'Nombre no disponible', 'precio': 'Precio no disponible', 'descuento': 'Sin descuento', 'capacidad': 'Capacidad no especificada', 'incluye_juegos': 'No incluye juegos', 'garantia': 'Sin garantía especificada', 'estado': 'Estado no especificado'}\n",
            "{'nombre': 'Nombre no disponible', 'precio': 'Precio no disponible', 'descuento': 'Sin descuento', 'capacidad': 'Capacidad no especificada', 'incluye_juegos': 'No incluye juegos', 'garantia': 'Sin garantía especificada', 'estado': 'Estado no especificado'}\n",
            "{'nombre': 'Nombre no disponible', 'precio': 'Precio no disponible', 'descuento': 'Sin descuento', 'capacidad': 'Capacidad no especificada', 'incluye_juegos': 'No incluye juegos', 'garantia': 'Sin garantía especificada', 'estado': 'Estado no especificado'}\n",
            "{'nombre': 'Nombre no disponible', 'precio': 'Precio no disponible', 'descuento': 'Sin descuento', 'capacidad': 'Capacidad no especificada', 'incluye_juegos': 'No incluye juegos', 'garantia': 'Sin garantía especificada', 'estado': 'Estado no especificado'}\n",
            "{'nombre': 'Nombre no disponible', 'precio': 'Precio no disponible', 'descuento': 'Sin descuento', 'capacidad': 'Capacidad no especificada', 'incluye_juegos': 'No incluye juegos', 'garantia': 'Sin garantía especificada', 'estado': 'Estado no especificado'}\n",
            "{'nombre': 'Nombre no disponible', 'precio': 'Precio no disponible', 'descuento': 'Sin descuento', 'capacidad': 'Capacidad no especificada', 'incluye_juegos': 'No incluye juegos', 'garantia': 'Sin garantía especificada', 'estado': 'Estado no especificado'}\n",
            "{'nombre': 'Nombre no disponible', 'precio': 'Precio no disponible', 'descuento': 'Sin descuento', 'capacidad': 'Capacidad no especificada', 'incluye_juegos': 'No incluye juegos', 'garantia': 'Sin garantía especificada', 'estado': 'Estado no especificado'}\n",
            "{'nombre': 'Nombre no disponible', 'precio': 'Precio no disponible', 'descuento': 'Sin descuento', 'capacidad': 'Capacidad no especificada', 'incluye_juegos': 'No incluye juegos', 'garantia': 'Sin garantía especificada', 'estado': 'Estado no especificado'}\n",
            "{'nombre': 'Nombre no disponible', 'precio': 'Precio no disponible', 'descuento': 'Sin descuento', 'capacidad': 'Capacidad no especificada', 'incluye_juegos': 'No incluye juegos', 'garantia': 'Sin garantía especificada', 'estado': 'Estado no especificado'}\n",
            "{'nombre': 'Nombre no disponible', 'precio': 'Precio no disponible', 'descuento': 'Sin descuento', 'capacidad': 'Capacidad no especificada', 'incluye_juegos': 'No incluye juegos', 'garantia': 'Sin garantía especificada', 'estado': 'Estado no especificado'}\n",
            "{'nombre': 'Nombre no disponible', 'precio': 'Precio no disponible', 'descuento': 'Sin descuento', 'capacidad': 'Capacidad no especificada', 'incluye_juegos': 'No incluye juegos', 'garantia': 'Sin garantía especificada', 'estado': 'Estado no especificado'}\n",
            "{'nombre': 'Nombre no disponible', 'precio': 'Precio no disponible', 'descuento': 'Sin descuento', 'capacidad': 'Capacidad no especificada', 'incluye_juegos': 'No incluye juegos', 'garantia': 'Sin garantía especificada', 'estado': 'Estado no especificado'}\n",
            "{'nombre': 'Nombre no disponible', 'precio': 'Precio no disponible', 'descuento': 'Sin descuento', 'capacidad': 'Capacidad no especificada', 'incluye_juegos': 'No incluye juegos', 'garantia': 'Sin garantía especificada', 'estado': 'Estado no especificado'}\n",
            "{'nombre': 'Nombre no disponible', 'precio': 'Precio no disponible', 'descuento': 'Sin descuento', 'capacidad': 'Capacidad no especificada', 'incluye_juegos': 'No incluye juegos', 'garantia': 'Sin garantía especificada', 'estado': 'Estado no especificado'}\n",
            "{'nombre': 'Nombre no disponible', 'precio': 'Precio no disponible', 'descuento': 'Sin descuento', 'capacidad': 'Capacidad no especificada', 'incluye_juegos': 'No incluye juegos', 'garantia': 'Sin garantía especificada', 'estado': 'Estado no especificado'}\n",
            "{'nombre': 'Nombre no disponible', 'precio': 'Precio no disponible', 'descuento': 'Sin descuento', 'capacidad': 'Capacidad no especificada', 'incluye_juegos': 'No incluye juegos', 'garantia': 'Sin garantía especificada', 'estado': 'Estado no especificado'}\n",
            "{'nombre': 'Nombre no disponible', 'precio': 'Precio no disponible', 'descuento': 'Sin descuento', 'capacidad': 'Capacidad no especificada', 'incluye_juegos': 'No incluye juegos', 'garantia': 'Sin garantía especificada', 'estado': 'Estado no especificado'}\n",
            "{'nombre': 'Nombre no disponible', 'precio': 'Precio no disponible', 'descuento': 'Sin descuento', 'capacidad': 'Capacidad no especificada', 'incluye_juegos': 'No incluye juegos', 'garantia': 'Sin garantía especificada', 'estado': 'Estado no especificado'}\n",
            "{'nombre': 'Nombre no disponible', 'precio': 'Precio no disponible', 'descuento': 'Sin descuento', 'capacidad': 'Capacidad no especificada', 'incluye_juegos': 'No incluye juegos', 'garantia': 'Sin garantía especificada', 'estado': 'Estado no especificado'}\n",
            "{'nombre': 'Nombre no disponible', 'precio': 'Precio no disponible', 'descuento': 'Sin descuento', 'capacidad': 'Capacidad no especificada', 'incluye_juegos': 'No incluye juegos', 'garantia': 'Sin garantía especificada', 'estado': 'Estado no especificado'}\n",
            "{'nombre': 'Nombre no disponible', 'precio': 'Precio no disponible', 'descuento': 'Sin descuento', 'capacidad': 'Capacidad no especificada', 'incluye_juegos': 'No incluye juegos', 'garantia': 'Sin garantía especificada', 'estado': 'Estado no especificado'}\n",
            "{'nombre': 'Nombre no disponible', 'precio': 'Precio no disponible', 'descuento': 'Sin descuento', 'capacidad': 'Capacidad no especificada', 'incluye_juegos': 'No incluye juegos', 'garantia': 'Sin garantía especificada', 'estado': 'Estado no especificado'}\n",
            "{'nombre': 'Nombre no disponible', 'precio': 'Precio no disponible', 'descuento': 'Sin descuento', 'capacidad': 'Capacidad no especificada', 'incluye_juegos': 'No incluye juegos', 'garantia': 'Sin garantía especificada', 'estado': 'Estado no especificado'}\n",
            "{'nombre': 'Nombre no disponible', 'precio': 'Precio no disponible', 'descuento': 'Sin descuento', 'capacidad': 'Capacidad no especificada', 'incluye_juegos': 'No incluye juegos', 'garantia': 'Sin garantía especificada', 'estado': 'Estado no especificado'}\n",
            "{'nombre': 'Nombre no disponible', 'precio': 'Precio no disponible', 'descuento': 'Sin descuento', 'capacidad': 'Capacidad no especificada', 'incluye_juegos': 'No incluye juegos', 'garantia': 'Sin garantía especificada', 'estado': 'Estado no especificado'}\n",
            "{'nombre': 'Nombre no disponible', 'precio': 'Precio no disponible', 'descuento': 'Sin descuento', 'capacidad': 'Capacidad no especificada', 'incluye_juegos': 'No incluye juegos', 'garantia': 'Sin garantía especificada', 'estado': 'Estado no especificado'}\n",
            "{'nombre': 'Nombre no disponible', 'precio': 'Precio no disponible', 'descuento': 'Sin descuento', 'capacidad': 'Capacidad no especificada', 'incluye_juegos': 'No incluye juegos', 'garantia': 'Sin garantía especificada', 'estado': 'Estado no especificado'}\n",
            "{'nombre': 'Nombre no disponible', 'precio': 'Precio no disponible', 'descuento': 'Sin descuento', 'capacidad': 'Capacidad no especificada', 'incluye_juegos': 'No incluye juegos', 'garantia': 'Sin garantía especificada', 'estado': 'Estado no especificado'}\n",
            "{'nombre': 'Nombre no disponible', 'precio': 'Precio no disponible', 'descuento': 'Sin descuento', 'capacidad': 'Capacidad no especificada', 'incluye_juegos': 'No incluye juegos', 'garantia': 'Sin garantía especificada', 'estado': 'Estado no especificado'}\n",
            "{'nombre': 'Nombre no disponible', 'precio': 'Precio no disponible', 'descuento': 'Sin descuento', 'capacidad': 'Capacidad no especificada', 'incluye_juegos': 'No incluye juegos', 'garantia': 'Sin garantía especificada', 'estado': 'Estado no especificado'}\n",
            "{'nombre': 'Nombre no disponible', 'precio': 'Precio no disponible', 'descuento': 'Sin descuento', 'capacidad': 'Capacidad no especificada', 'incluye_juegos': 'No incluye juegos', 'garantia': 'Sin garantía especificada', 'estado': 'Estado no especificado'}\n",
            "{'nombre': 'Nombre no disponible', 'precio': 'Precio no disponible', 'descuento': 'Sin descuento', 'capacidad': 'Capacidad no especificada', 'incluye_juegos': 'No incluye juegos', 'garantia': 'Sin garantía especificada', 'estado': 'Estado no especificado'}\n",
            "{'nombre': 'Nombre no disponible', 'precio': 'Precio no disponible', 'descuento': 'Sin descuento', 'capacidad': 'Capacidad no especificada', 'incluye_juegos': 'No incluye juegos', 'garantia': 'Sin garantía especificada', 'estado': 'Estado no especificado'}\n",
            "{'nombre': 'Nombre no disponible', 'precio': 'Precio no disponible', 'descuento': 'Sin descuento', 'capacidad': 'Capacidad no especificada', 'incluye_juegos': 'No incluye juegos', 'garantia': 'Sin garantía especificada', 'estado': 'Estado no especificado'}\n",
            "{'nombre': 'Nombre no disponible', 'precio': 'Precio no disponible', 'descuento': 'Sin descuento', 'capacidad': 'Capacidad no especificada', 'incluye_juegos': 'No incluye juegos', 'garantia': 'Sin garantía especificada', 'estado': 'Estado no especificado'}\n"
          ]
        }
      ]
    }
  ]
}